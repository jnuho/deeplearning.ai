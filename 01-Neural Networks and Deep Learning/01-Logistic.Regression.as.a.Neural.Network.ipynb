{
 "cells": [
  {
   "cell_type": "markdown",
   "metadata": {},
   "source": [
    "* [Binary Classification](#bincls)\n",
    "\n",
    " - Use logistic regresssion algorithm for binary classification\n",
    "* [Logistic Regresssion](#logreg)\n",
    "* [Gradient Decent](#gradecent)\n",
    "* [Derivatives](#deriv)\n",
    "* [Computation Graph](#compgraph)\n",
    "* [Logistic Regression Gradient Descent](#logreg-gradecent)"
   ]
  },
  {
   "cell_type": "markdown",
   "metadata": {},
   "source": [
    "<a id=\"bincls\"></a>\n",
    "<img src=\"https://i.imgur.com/w1cixJF.png\" style=\"width:650px;height:450px; float: left;\">"
   ]
  },
  {
   "cell_type": "markdown",
   "metadata": {},
   "source": [
    "$ n_{x} = $ (number of input features)<br>\n",
    "$ m_{train} = $ (number of training data)<br>\n",
    "$ m_{test} = $ (number of test data)"
   ]
  },
  {
   "cell_type": "markdown",
   "metadata": {},
   "source": [
    "<img src=\"https://i.imgur.com/TkGyzQ9.pngK\" style=\"width:650px;height:450px; float: left;\">"
   ]
  },
  {
   "cell_type": "code",
   "execution_count": 1,
   "metadata": {},
   "outputs": [],
   "source": [
    "import numpy as np\n",
    "import matplotlib.pyplot as plt\n",
    "from lr_utils import load_dataset\n",
    "\n",
    "%matplotlib inline"
   ]
  },
  {
   "cell_type": "code",
   "execution_count": 2,
   "metadata": {},
   "outputs": [],
   "source": [
    "train_set_x_orig, train_set_y, test_set_x_orig, test_set_y, classes = load_dataset()"
   ]
  },
  {
   "cell_type": "code",
   "execution_count": 3,
   "metadata": {},
   "outputs": [
    {
     "name": "stdout",
     "output_type": "stream",
     "text": [
      "Machine parameters for uint8\n",
      "---------------------------------------------------------------\n",
      "min = 0\n",
      "max = 255\n",
      "---------------------------------------------------------------\n",
      "\n"
     ]
    }
   ],
   "source": [
    "# [data types](https://docs.scipy.org/doc/numpy-1.10.1/user/basics.types.html)\n",
    "\n",
    "# 64x64 with 8-bit integer components\n",
    "print(np.iinfo(np.uint8))\n",
    "\n",
    "for index in range(train_set_x_orig.shape[0]):\n",
    "    cat = train_set_x_orig[index]\n",
    "    assert(np.ndarray(shape=(64, 64, 3), dtype=np.uint8).shape == cat.shape)"
   ]
  },
  {
   "cell_type": "markdown",
   "metadata": {},
   "source": [
    "<img id=\"logreg\" src=\"https://i.imgur.com/9iAacgB.png\" style=\"width:650px;height:420px; float: left;\">"
   ]
  },
  {
   "cell_type": "markdown",
   "metadata": {},
   "source": [
    "In linear regression,\n",
    "$\\hat{y} = w^T+b$. But $\\hat{y}$ should be $0\\leq\\hat{y}\\leq1$<br>\n",
    "$\\hat{y} = \\sigma({w^T+b})$"
   ]
  },
  {
   "cell_type": "markdown",
   "metadata": {},
   "source": [
    "In logistic regresion implementation objective is to find parameters $w$ and $b$ to make $\\hat{y}$ a good estimate of the chance of Y being equal to 1."
   ]
  },
  {
   "cell_type": "markdown",
   "metadata": {},
   "source": [
    "<img src=\"https://i.imgur.com/ae4mzIU.png\" style=\"width:670px;height:430px; float: left;\">"
   ]
  },
  {
   "cell_type": "markdown",
   "metadata": {},
   "source": [
    "In training logistic regression model, find $w$ and $b$ that minimize overall cost function, $J(w,b)$"
   ]
  },
  {
   "cell_type": "markdown",
   "metadata": {},
   "source": [
    "$$\\hat{y}^{(i)}= \\sigma(w^T X^{(i)} + b) = \\sigma(z^{(i)})$$\n",
    "\n",
    "$$z^{(i)}= w^T X^{(i)} + b$$\n",
    "\n",
    "$$Given\\ \\{(x^{(1)}, y^{(1)}), ... (x^{(m)}, y^{(m)})\\},\\ want\\ \\hat{y}^{(i)} \\approx y^{(i)}$$"
   ]
  },
  {
   "cell_type": "markdown",
   "metadata": {},
   "source": [
    "<img id=\"gradecent\" src=\"https://i.imgur.com/m5HTDzl.png\" style=\"width:650px;height:400px; float: left;\">"
   ]
  },
  {
   "cell_type": "markdown",
   "metadata": {},
   "source": [
    "<img src=\"https://i.imgur.com/2mGFlWu.png\" style=\"width:650px;height:400px; float: left;\">"
   ]
  },
  {
   "cell_type": "markdown",
   "metadata": {},
   "source": [
    "<img id=\"deriv\" src=\"https://i.imgur.com/ffqllqb.png\" style=\"width:650px;height:380px; float: left;\">"
   ]
  },
  {
   "cell_type": "markdown",
   "metadata": {},
   "source": [
    "<img src=\"https://i.imgur.com/HlVVp1t.png\" style=\"width:650px;height:380px; float: left;\">"
   ]
  },
  {
   "cell_type": "markdown",
   "metadata": {},
   "source": [
    "<img src=\"https://i.imgur.com/DrdyBeg.png\" style=\"width:650px;height:380px; float: left;\">"
   ]
  },
  {
   "cell_type": "markdown",
   "metadata": {},
   "source": [
    "<img id=\"compgraph\" src=\"https://i.imgur.com/zEX9fxz.png\" style=\"width:650px;height:400px; float: left;\">"
   ]
  },
  {
   "cell_type": "markdown",
   "metadata": {},
   "source": [
    "<img src=\"https://i.imgur.com/XSPppwf.png\" style=\"width:650px;height:400px; float: left;\">"
   ]
  },
  {
   "cell_type": "markdown",
   "metadata": {},
   "source": [
    "<img src=\"https://i.imgur.com/fTmw5jJ.png\" style=\"width:650px;height:400px; float: left;\">"
   ]
  },
  {
   "cell_type": "markdown",
   "metadata": {},
   "source": [
    "<img id=\"logreg-gradecent\" src=\"https://i.imgur.com/jKcH9jB.png\" style=\"width:650px;height:400px; float: left;\">"
   ]
  },
  {
   "cell_type": "markdown",
   "metadata": {},
   "source": [
    "<img src=\"https://i.imgur.com/Ntnnqey.png\" style=\"width:650px;height:400px; float: left;\">"
   ]
  },
  {
   "cell_type": "markdown",
   "metadata": {},
   "source": [
    "$$dz = \\frac{dL}{da} \\cdot \\frac{da}{dz} = \\{-\\frac{y}{a} + \\frac{1-y}{1-a}\\}\\cdot\\{a\\cdot(1-a)\\}$$<br>\n",
    "$$\\frac{da}{dz} = \\frac{d\\sigma(z)}{dz} = \\frac{d}{dz}(\\frac{1}{1+e^{-z}}) = a\\cdot(1-a)$$"
   ]
  },
  {
   "cell_type": "markdown",
   "metadata": {},
   "source": [
    "<img src=\"https://i.imgur.com/AhMybZm.png\" style=\"width:650px;height:350px; float: left;\">"
   ]
  },
  {
   "cell_type": "markdown",
   "metadata": {},
   "source": [
    "$n_x = 2,\\ m = 1$"
   ]
  },
  {
   "cell_type": "markdown",
   "metadata": {},
   "source": [
    "<img src=\"https://i.imgur.com/2pseXrt.png\" style=\"width:650px;height:350px; float: left;\">"
   ]
  }
 ],
 "metadata": {
  "kernelspec": {
   "display_name": "Python 3",
   "language": "python",
   "name": "python3"
  },
  "language_info": {
   "codemirror_mode": {
    "name": "ipython",
    "version": 3
   },
   "file_extension": ".py",
   "mimetype": "text/x-python",
   "name": "python",
   "nbconvert_exporter": "python",
   "pygments_lexer": "ipython3",
   "version": "3.6.5"
  }
 },
 "nbformat": 4,
 "nbformat_minor": 2
}
