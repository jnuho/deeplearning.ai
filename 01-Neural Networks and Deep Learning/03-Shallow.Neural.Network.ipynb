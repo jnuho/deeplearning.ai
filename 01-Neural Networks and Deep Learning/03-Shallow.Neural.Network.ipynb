{
 "cells": [
  {
   "cell_type": "markdown",
   "metadata": {},
   "source": [
    "* [Neural Network Overview](#nn)\n",
    "* [Neural Network Representation](#nnrep)\n",
    "* [Vectorizing Across Multiple Examples](#vecm)\n",
    "* [Explanation for Vectorized Implementation](#veci)\n",
    "* [Activation Functions](#af)\n",
    "* [Why do you need non-linear activation functions?](#why)\n",
    "* [Derivatives of activation functions](#dr)\n",
    "* [Gradient descent for Neural Networks](#gd)\n",
    "* [Backpropagation intuition](#back)\n",
    "* [Random Initialization](#rand)"
   ]
  },
  {
   "cell_type": "markdown",
   "metadata": {},
   "source": [
    "<div id=\"nn\">\n",
    "    <img src=\"https://i.imgur.com/73oPtj6.png\" style=\"width:700px;height:400px; float: left;\">\n",
    "</div>"
   ]
  },
  {
   "cell_type": "markdown",
   "metadata": {},
   "source": [
    "<div id=\"nnrep\">\n",
    "    <img src=\"https://i.imgur.com/rtdBLyj.png\" style=\"width:700px;height:400px; float: left;\">\n",
    "</div>"
   ]
  },
  {
   "cell_type": "markdown",
   "metadata": {},
   "source": [
    "<img src=\"https://i.imgur.com/kTd417e.png\" style=\"width:700px;height:400px; float: left;\">"
   ]
  },
  {
   "cell_type": "markdown",
   "metadata": {},
   "source": [
    "<img src=\"https://i.imgur.com/tYB9G3H.png\" style=\"width:700px;height:400px; float: left;\">"
   ]
  },
  {
   "cell_type": "markdown",
   "metadata": {},
   "source": [
    "<img src=\"https://i.imgur.com/F9kMmTs.png\" style=\"width:700px;height:400px; float: left;\">"
   ]
  },
  {
   "cell_type": "markdown",
   "metadata": {},
   "source": [
    "<img src=\"https://i.imgur.com/psB29lQ.png\" style=\"width:700px;height:400px; float: left;\">"
   ]
  },
  {
   "cell_type": "markdown",
   "metadata": {},
   "source": [
    "<div id=\"vecm\">\n",
    "    <img src=\"https://i.imgur.com/9hqY728.png\" style=\"width:700px;height:400px; float: left;\">\n",
    "</div>"
   ]
  },
  {
   "cell_type": "markdown",
   "metadata": {},
   "source": [
    "<img src=\"https://i.imgur.com/KAjtoZ0.png\" style=\"width:700px;height:400px; float: left;\">"
   ]
  },
  {
   "cell_type": "markdown",
   "metadata": {},
   "source": [
    "<div id=\"veci\">\n",
    "    <img src=\"https://i.imgur.com/k7g9ZLH.png\" style=\"width:700px;height:400px; float: left;\">\n",
    "</div>"
   ]
  },
  {
   "cell_type": "markdown",
   "metadata": {},
   "source": [
    "<img src=\"https://i.imgur.com/19VaWoe.png\" style=\"width:700px;height:400px; float: left;\">"
   ]
  },
  {
   "cell_type": "markdown",
   "metadata": {},
   "source": [
    "<img src=\"https://i.imgur.com/qVQp7SH.png\" style=\"width:280px;height:160px; float: top;\">\n",
    "\n",
    "$$ X = \\begin{bmatrix}\n",
    "    \\vdots & &\\vdots \\\\\n",
    "    x^{(1)} & \\dots & x^{(m)} \\\\\n",
    "    \\vdots & & \\vdots\n",
    "\\end{bmatrix} $$\n",
    "\n",
    "$$ z^{[1]} = \\begin{bmatrix}\n",
    "    z_1^{[1]} \\\\\n",
    "    z_2^{[1]} \\\\\n",
    "    z_3^{[1]} \\\\\n",
    "    z_4^{[1]}\n",
    "\\end{bmatrix} = \\begin{bmatrix}\n",
    "    \\dots & {w_1^{[1]}}^T & \\dots \\\\\n",
    "    \\dots & {w_2^{[1]}}^T & \\dots \\\\\n",
    "    \\dots & {w_3^{[1]}}^T & \\dots \\\\\n",
    "    \\dots & {w_4^{[1]}}^T & \\dots\n",
    "\\end{bmatrix}\n",
    "\\begin{bmatrix}\n",
    "    x_1 \\\\\n",
    "    x_2 \\\\\n",
    "    x_3\n",
    "\\end{bmatrix} + \\begin{bmatrix}\n",
    "    b_1^{[1]} \\\\\n",
    "    b_2^{[1]} \\\\\n",
    "    b_3^{[1]}\n",
    "\\end{bmatrix}$$\n",
    "\n",
    "$$ z^{[1]} = W^{[1]}X + b^{[1]} $$\n",
    "\n",
    "$$ a^{[1]} = g^{[1]}(z^{[1]}) $$\n",
    "\n",
    "$$ z^{[2]} = W^{[2]}a^{[1]} + b^{[2]} $$\n",
    "\n",
    "$$ a^{[2]} = g^{[2]}(z^{[2]}) = \\sigma(z^{[2]}) $$<br>\n",
    "\n",
    "$$ W^{[1]} \\in \\mathbb{R}^{(4,3)},\\ X \\in \\mathbb{R}^{(3,1)},\\ a^{[1]} \\in \\mathbb{R}^{(4,1)} $$\n",
    "$$ W^{[2]} \\in \\mathbb{R}^{(1,4)},\\ a^{[1]} \\in \\mathbb{R}^{(4,1)},\\ a^{[2]} \\in \\mathbb{R}^{(1,1)} $$\n",
    "\n",
    "\n",
    "\n",
    "$ for\\ i\\ in\\ range(m):$<br>\n",
    "> $ z^{[1](i)} = W^{[1]}X + b^{[1]} $<br>\n",
    "> $ a^{[1](i)} = g(z^{[1](i)}) $<br>\n",
    "> $ z^{[2](i)} = W^{[2]}a^{[1](i)} + b^{[2]} $<br>\n",
    "> $ a^{[2](i)} = g(z^{[2](i)}) $<br>\n",
    "\n",
    "$$ W^{[1]} = \\begin{bmatrix}\n",
    "    \\dots & {w_1^{[1]}}^T & \\dots \\\\\n",
    "    \\dots & {w_2^{[1]}}^T & \\dots \\\\\n",
    "    \\dots & \\vdots & \\dots \\\\\n",
    "    \\dots & {w_{n^{[1]}}^{[1]}}^T & \\dots\n",
    "\\end{bmatrix} $$\n",
    "\n",
    "$$ X = A^{[0]} = \\begin{bmatrix}\n",
    "    \\vdots & &\\vdots \\\\\n",
    "    x^{(1)} & \\dots & x^{(m)} \\\\\n",
    "    \\vdots & & \\vdots\n",
    "\\end{bmatrix} $$\n",
    "\n",
    "$$ Z^{[1]} = \\begin{bmatrix}\n",
    "    \\vdots & &\\vdots \\\\\n",
    "    z^{[1](1)} & \\dots & z^{[1](m)} \\\\\n",
    "    \\vdots & & \\vdots\n",
    "\\end{bmatrix} $$\n",
    "\n",
    "$$ A^{[1]} = \\begin{bmatrix}\n",
    "    \\vdots & &\\vdots \\\\\n",
    "    a^{[1](1)} & \\dots & a^{[1](m)} \\\\\n",
    "    \\vdots & & \\vdots\n",
    "\\end{bmatrix} $$<br>\n",
    "\n",
    "\n",
    "$$ Z^{[1]} = W^{[1]}A^{[0]} + b^{[1]} $$\n",
    "\n",
    "$$ A^{[1]} = g^{[1]}(Z^{[1]}) $$\n",
    "\n",
    "$$ Z^{[2]} = W^{[2]}A^{[1]} + b^{[2]} $$\n",
    "\n",
    "$$ A^{[2]} = g^{[2]}(Z^{[2]})= \\sigma(Z^{[2]}) $$<br>\n",
    "\n",
    "$$ W^{[1]} \\in \\mathbb{R}^{(n^{[1]},n^{[0]})},\\ A^{[0]} \\in \\mathbb{R}^{(n^{[0]},m)},\\ A^{[1]} \\in \\mathbb{R}^{(n^{[1]},m)} $$\n",
    "$$ W^{[2]} \\in \\mathbb{R}^{(1,n^{[1]})},\\ A^{[1]} \\in \\mathbb{R}^{(n^{[1]},1)},\\ A^{[2]} \\in \\mathbb{R}^{(1,1)} $$\n"
   ]
  },
  {
   "cell_type": "markdown",
   "metadata": {},
   "source": [
    "<div id=\"af\">\n",
    "    <img src=\"https://i.imgur.com/GAkZxzG.png\" style=\"width:700px;height:400px; float: left;\">\n",
    "</div>"
   ]
  },
  {
   "cell_type": "markdown",
   "metadata": {},
   "source": [
    "<img src=\"https://i.imgur.com/oSLHbTi.png\" style=\"width:700px;height:400px; float: left;\">"
   ]
  },
  {
   "cell_type": "markdown",
   "metadata": {},
   "source": [
    "<div id=\"why\">\n",
    "    <img src=\"https://i.imgur.com/2eD0xhO.png\" style=\"width:700px;height:400px; float: left;\">\n",
    "</div>"
   ]
  },
  {
   "cell_type": "markdown",
   "metadata": {},
   "source": [
    "<div id=\"dr\">\n",
    "    <img src=\"https://i.imgur.com/4JG20BB.png\" style=\"width:700px;height:400px; float: left;\">\n",
    "</div>"
   ]
  },
  {
   "cell_type": "markdown",
   "metadata": {},
   "source": [
    "<img src=\"https://i.imgur.com/o3i8MrL.png\" style=\"width:700px;height:400px; float: left;\">"
   ]
  },
  {
   "cell_type": "markdown",
   "metadata": {},
   "source": [
    "<img src=\"https://i.imgur.com/m3OdTLk.png\" style=\"width:700px;height:400px; float: left;\">"
   ]
  },
  {
   "cell_type": "markdown",
   "metadata": {},
   "source": [
    "<div id=\"gd\">\n",
    "    <img src=\"https://i.imgur.com/corP5Jo.png\" style=\"width:700px;height:400px; float: left;\">\n",
    "</div>"
   ]
  },
  {
   "cell_type": "markdown",
   "metadata": {},
   "source": [
    "<img src=\"https://i.imgur.com/okskvtk.png\" style=\"width:700px;height:400px; float: left;\">"
   ]
  },
  {
   "cell_type": "markdown",
   "metadata": {},
   "source": [
    "<div id=\"back\">\n",
    "    <img src=\"https://i.imgur.com/AsZoj55.png\" style=\"width:700px;height:400px; float: left;\">\n",
    "</div>"
   ]
  },
  {
   "cell_type": "markdown",
   "metadata": {},
   "source": [
    "<img src=\"https://i.imgur.com/RCMV3uW.png\" style=\"width:700px;height:400px; float: left;\">"
   ]
  },
  {
   "cell_type": "markdown",
   "metadata": {},
   "source": [
    "<img src=\"https://i.imgur.com/yroXRKB.png\" style=\"width:700px;height:400px; float: left;\">"
   ]
  },
  {
   "cell_type": "markdown",
   "metadata": {},
   "source": [
    "<img src=\"https://i.imgur.com/JNR4sYx.png\" style=\"width:700px;height:400px; float: left;\">"
   ]
  },
  {
   "cell_type": "markdown",
   "metadata": {},
   "source": [
    "$$ z = w^Tx + b \\rightarrow a = \\sigma(z) \\rightarrow \\mathcal{L}(a, y) $$\n",
    "$$ dz = da\\cdot g{'}(z) = a - y $$\n",
    "$$ dw = dz\\cdot x $$\n",
    "$$ db = dz $$\n",
    "\n",
    "$$ z^{[1]} = W^{[1]}X + b^{[1]} \\rightarrow a^{[1]} = g^{[1]}(z^{[1]}) \\rightarrow z^{[2]} = W^{[2]}a^{[1]} + b^{[2]} \\rightarrow a^{[2]} = g^{[2]}(z^{[2]}) = \\sigma(z^{[2]}) $$\n",
    "$$ dz^{[2]} = a^{[2]} - y $$\n",
    "$$ dW^{[2]} = dz^{[2]}{a^{[1]}}^T$$\n",
    "$$ db^{[2]} = dz^{[2]} $$\n",
    "$$ dz^{[1]} = {W^{[2]}}^Tdz^{[2]}*g^{[1]'}(z^{[1]}) $$\n",
    "$$ dW^{[1]} = dz^{[1]}x^T $$\n",
    "$$ db^{[1]} = dz^{[1]} $$<br>\n",
    "\n",
    "$$ dZ^{[2]} = A^{[2]} - Y $$\n",
    "$$ dW^{[2]} = \\frac{1}{m}dZ^{[2]}{A^{[1]}}^T $$\n",
    "$$ db^{[2]} = \\frac{1}{m}np.sum(dZ^{[2]},\\ axis=1,\\ keepdims=True) $$\n",
    "$$ dZ^{[1]} = {W^{[2]}}^T dZ^{[2]}*g^{[1]'}(Z^{[1]}) $$\n",
    "$$ dW^{[1]} = \\frac{1}{m}dZ^{[1]}X^T $$\n",
    "$$ db^{[1]} = \\frac{1}{m}np.sum(dZ^{[1]},\\ axis=1,\\ keepdims=True) $$"
   ]
  },
  {
   "cell_type": "markdown",
   "metadata": {},
   "source": [
    "<div id=\"rand\">\n",
    "    <img src=\"https://i.imgur.com/E4T0M44.png\" style=\"width:700px;height:400px; float: left;\">\n",
    "</div>"
   ]
  },
  {
   "cell_type": "markdown",
   "metadata": {},
   "source": [
    "activations of hidden units become identical\n",
    "\n",
    "$ W^{[1]} $ as well as $ dw $ will have identical rows"
   ]
  },
  {
   "cell_type": "markdown",
   "metadata": {},
   "source": [
    "<img src=\"https://i.imgur.com/qWQGqzS.png\" style=\"width:700px;height:400px; float: left;\">"
   ]
  },
  {
   "cell_type": "markdown",
   "metadata": {},
   "source": [
    "Random Initialization:\n",
    "\n",
    "$ W^{[1]} = np.random.randn(2,2)*0.01 $<br>\n",
    "$ b^{[1]} = np.zeros((2,1)) $<br>\n",
    "$ W^{[2]} = np.random.randn(1,2)*0.01 $<br>\n",
    "$ b^{[2]} = 0 $"
   ]
  },
  {
   "cell_type": "code",
   "execution_count": 1,
   "metadata": {},
   "outputs": [
    {
     "name": "stdout",
     "output_type": "stream",
     "text": [
      "[[-0.30337578 -0.34457447 -1.18786543]\n",
      " [-0.46428449 -1.08368126 -0.35498015]\n",
      " [ 0.61267569  1.32231855  0.43636428]\n",
      " [-1.45285995 -1.52168787  0.66469301]]\n",
      "[[-1.83581568]\n",
      " [-1.90294591]\n",
      " [ 2.37135852]\n",
      " [-2.30985481]]\n",
      "(4, 3)\n",
      "(4, 1)\n"
     ]
    }
   ],
   "source": [
    "import numpy as np\n",
    "\n",
    "A = np.random.randn(4,3)\n",
    "B = np.sum(A, axis = 1, keepdims = True)\n",
    "print(A)\n",
    "print(B)\n",
    "print(A.shape)\n",
    "print(B.shape)"
   ]
  }
 ],
 "metadata": {
  "kernelspec": {
   "display_name": "Python 3",
   "language": "python",
   "name": "python3"
  },
  "language_info": {
   "codemirror_mode": {
    "name": "ipython",
    "version": 3
   },
   "file_extension": ".py",
   "mimetype": "text/x-python",
   "name": "python",
   "nbconvert_exporter": "python",
   "pygments_lexer": "ipython3",
   "version": "3.6.5"
  }
 },
 "nbformat": 4,
 "nbformat_minor": 2
}
