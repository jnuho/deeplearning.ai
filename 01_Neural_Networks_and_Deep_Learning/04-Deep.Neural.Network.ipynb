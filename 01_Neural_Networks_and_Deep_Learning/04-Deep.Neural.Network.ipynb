{
 "cells": [
  {
   "cell_type": "markdown",
   "metadata": {},
   "source": [
    "* [Deep L-layer neutral network](#llayer)\n",
    "* [Forward Propagation in a Deep Network](#fp)\n",
    "* [Getting your matrix dimensions right](#dim)\n",
    "* [Why deep representations?](#dprep)\n",
    "* [Building blocks of deep neural networks](#blocks)\n",
    "* [Forward and Backward Propagation](#fbp)\n",
    "* [Parameters vs Hyperparameters](#hparam)\n",
    "* [What does this have to do with the brain?](#brain)"
   ]
  },
  {
   "cell_type": "markdown",
   "metadata": {},
   "source": [
    "<img src=\"https://i.imgur.com/GCRQRaM.png\" style=\"width:650px;height:380px; float: left;\">"
   ]
  },
  {
   "cell_type": "markdown",
   "metadata": {},
   "source": [
    "<img src=\"https://i.imgur.com/M2TRtya.png\" style=\"width:650px;height:380px; float: left;\">"
   ]
  },
  {
   "cell_type": "markdown",
   "metadata": {},
   "source": [
    "<img src=\"https://i.imgur.com/bNfHO2B.png\" style=\"width:650px;height:380px; float: left;\">"
   ]
  },
  {
   "cell_type": "markdown",
   "metadata": {},
   "source": [
    "$$ z^{[l]} = W^{[l]}a^{[l-1]} + b^{[l]} $$\n",
    "$$ a^{[l]} = g^{[l]}(z^{[l]})$$\n",
    "\n",
    "$$ Z^{[l]} = W^{[l]}A^{[l-1]} + b^{[l]} $$\n",
    "$$ A^{[l]} = g^{[l]}(Z^{[l]})$$\n",
    "\n",
    "$$ l^{th}\\ layer\\ has\\ n^{[l]}\\ hidden\\ units.\\ (l=0,1,...,L)$$\n",
    "$$ \\hat{y} = g^{[L]}(Z^{[L]}) = A^{[L]}$$\n",
    "$$ n^{[0]} = X.shape[0] $$\n",
    "$$ n^{[L]} = 1 $$"
   ]
  },
  {
   "cell_type": "markdown",
   "metadata": {},
   "source": [
    "<img src=\"https://i.imgur.com/ZsErnPi.png\" style=\"width:650px;height:380px; float: left;\">"
   ]
  },
  {
   "cell_type": "markdown",
   "metadata": {},
   "source": [
    "<img src=\"https://i.imgur.com/dpVndat.png\" style=\"width:650px;height:380px; float: left;\">"
   ]
  },
  {
   "cell_type": "markdown",
   "metadata": {},
   "source": [
    "$$ z^{[l]} = W^{[l]}a^{[l-1]} + b^{[l]} $$\n",
    "$$ (n^{[l]},1)(n^{[l]}, n^{[l-1]})(n^{[l-1]},1)(n^{[l]},1) $$\n",
    "\n",
    "$$ Z^{[l]} = W^{[l]}A^{[l-1]} + b^{[l]} $$\n",
    "$$ (n^{[l]},m)(n^{[l]}, n^{[l-1]})(n^{[l-1]},m)(n^{[l]},m) $$\n",
    "\n",
    "$$ dZ^{[l]}, dA^{[l]} $$\n",
    "$$ (n^{[l]},m)(n^{[l]},m) $$\n",
    "\n"
   ]
  },
  {
   "cell_type": "markdown",
   "metadata": {},
   "source": [
    "<img src=\"https://i.imgur.com/DxirrKx.png\" style=\"width:650px;height:380px; float: left;\">"
   ]
  },
  {
   "cell_type": "markdown",
   "metadata": {},
   "source": [
    "<img src=\"https://i.imgur.com/YiQBIm5.png\" style=\"width:650px;height:380px; float: left;\">"
   ]
  },
  {
   "cell_type": "markdown",
   "metadata": {},
   "source": [
    "<img src=\"https://i.imgur.com/4zEh2Hc.png\" style=\"width:650px;height:380px; float: left;\">"
   ]
  },
  {
   "cell_type": "markdown",
   "metadata": {},
   "source": [
    "<img src=\"https://i.imgur.com/fVBbGwh.png\" style=\"width:650px;height:380px; float: left;\">"
   ]
  },
  {
   "cell_type": "markdown",
   "metadata": {},
   "source": [
    "<img src=\"https://i.imgur.com/ehZxuM0.png\" style=\"width:650px;height:380px; float: left;\">"
   ]
  },
  {
   "cell_type": "markdown",
   "metadata": {},
   "source": [
    "<img src=\"https://i.imgur.com/6NQ4o3f.png\" style=\"width:650px;height:380px; float: left;\">"
   ]
  },
  {
   "cell_type": "markdown",
   "metadata": {},
   "source": [
    "Forward Propagation:<br>\n",
    "$ input: a^{[l-1]} $<br>\n",
    "$ output: a^{[l]},\\ cache\\ z^{[l]} $\n",
    "$$ z^{[l]} = W^{[l]}a^{[l-1]} + b^{[l]} $$\n",
    "$$ a^{[l]} = g^{[l]}(z^{[l]}) $$<br>\n",
    "\n",
    "$$ Z^{[l]} = W^{[l]}A^{[l-1]} + b^{[l]} $$\n",
    "$$ A^{[l]} = g^{[l]}(Z^{[l]}) $$\n",
    "\n",
    "Backward Propagation:<br>\n",
    "$ input: da^{[l]},\\ cache\\ z^{[l]}\\ (initialization:\\ da^{[L]} = -\\frac{y}{a}+\\frac{1-y}{1-a},\\ dA^{[L]} = \\sum_{i=1}^{m}{-\\frac{y^{(i)}}{a^{(i)}}+\\frac{1-y^{(i)}}{1-a^{(i)}}})$<br>\n",
    "$ output: da^{[l-1]},\\ dW^{[l]},\\ db^{[l]} $\n",
    "$$ dz^{[l]} = da^{[l]} * g^{[l]'}(z^{[l]}) $$\n",
    "$$ dW^{[l]} = dz^{[l]}a^{[l-1]} $$\n",
    "$$ db^{[l]} = dz^{[l]} $$\n",
    "$$ da^{[l-1]} = W^{[l]T}dz^{[l]} $$\n",
    "$$ dz^{[l]} = W^{[l+1]T}dz^{[l+1]}*g^{[l]'}(z^{[l]}) $$<br>\n",
    "\n",
    "$$ dZ^{[l]} = dA^{[l]}*g^{[l]'}(Z^{[l]}) $$\n",
    "$$ dW^{[l]} = \\frac{1}{m}dZ^{[l]}A^{[l-1]T} $$\n",
    "$$ db^{[l]} = \\frac{1}{m}np.sum(dZ^{[l]},\\ axis=1,\\ keepdims=True) $$\n",
    "$$ dA^{[l-1]} = W^{[l]T}dZ^{[l]} $$"
   ]
  },
  {
   "cell_type": "markdown",
   "metadata": {},
   "source": [
    "<img src=\"https://i.imgur.com/aYtJLoF.png\" style=\"width:650px;height:380px; float: left;\">"
   ]
  },
  {
   "cell_type": "markdown",
   "metadata": {},
   "source": [
    "<img src=\"https://i.imgur.com/4uhLHp7.png\" style=\"width:650px;height:380px; float: left;\">"
   ]
  },
  {
   "cell_type": "markdown",
   "metadata": {},
   "source": [
    "<img src=\"https://i.imgur.com/KvSdCI0.png\" style=\"width:650px;height:380px; float: left;\">"
   ]
  },
  {
   "cell_type": "markdown",
   "metadata": {},
   "source": [
    "<img src=\"https://i.imgur.com/jJZeJIL.png\" style=\"width:650px;height:380px; float: left;\">"
   ]
  }
 ],
 "metadata": {
  "kernelspec": {
   "display_name": "Python 3",
   "language": "python",
   "name": "python3"
  },
  "language_info": {
   "codemirror_mode": {
    "name": "ipython",
    "version": 3
   },
   "file_extension": ".py",
   "mimetype": "text/x-python",
   "name": "python",
   "nbconvert_exporter": "python",
   "pygments_lexer": "ipython3",
   "version": "3.6.5"
  }
 },
 "nbformat": 4,
 "nbformat_minor": 2
}
