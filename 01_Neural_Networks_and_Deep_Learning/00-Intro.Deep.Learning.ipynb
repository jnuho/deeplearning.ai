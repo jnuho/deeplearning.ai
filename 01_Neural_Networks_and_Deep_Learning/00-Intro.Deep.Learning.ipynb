{
 "cells": [
  {
   "cell_type": "markdown",
   "metadata": {
    "collapsed": true,
    "pycharm": {
     "name": "#%% md\n"
    }
   },
   "source": [
    "# Introduction to Deep Learning\n",
    "- AI is the new Electricity\n",
    "\n",
    "What you’ll learn. Courses in this sequence (Specialization):\n",
    "1. Neural Networks and Deep Learning\n",
    "2. Improving Deep Neural Networks: Hyperparameter tuning, Regularization and Optimization\n",
    "3. Structuring your Machine Learning project\n",
    "4. Convolutional Neural Networks\n",
    "5. Natural Language Processing: Building sequence models\n"
   ]
  },
  {
   "cell_type": "markdown",
   "metadata": {
    "collapsed": false,
    "pycharm": {
     "name": "#%% md\n"
    }
   },
   "source": [
    "## What is a Neural Network?\n",
    "\n",
    "It is a powerful learning algorithm inspired by how the brain works\n",
    "\n",
    "- Single neural network: x(size of the house)->y(price) \"neuron\" implements ReLU\n",
    "\t(Linear Regression problem.)\n",
    "- Multiple neural network: The price of a house can be affected by other features such as size, number of bedrooms, etc. The role of the nn is to predict the price and it will automatically generate the hidden units. We only need to give the inputs x and the output y.\n",
    "\n",
    "Deep learning: training (big) neural network\n",
    "\n",
    "- Every input layer feature is interconnected with every hidden layer feature.\n",
    "\n",
    "```\n",
    "Given enough training examples with (x,y) data, nn are remarkably good at feaguring out function that accurately maps from x to y.\n",
    "\n",
    "X(inputs) -> hidden units O O...O -> Y(price)\n",
    "X_1 ->Hidden Units-> Y\n",
    "X_2 ->Hidden Units-> Y\n",
    "...\n",
    "X_m ->Hidden Units-> Y\n",
    "```"
   ]
  },
  {
   "cell_type": "markdown",
   "metadata": {
    "collapsed": false,
    "pycharm": {
     "name": "#%% md\n"
    }
   },
   "source": [
    "## Supervised learning for Neural Network\n",
    "\n",
    "- In supervised learning, we are given a data set and already know what our correct output should look like, having the idea that there is a relationship between the input and the output.\n",
    "- Supervised learning problems are categorized into \"regression\" and \"classification\" problems.\n",
    "- In a regression problem, we are trying to predict results within a continuous output, meaning that we are trying to map input variables to some continuous function.\n",
    "- In a classification problem, we are instead trying to predict results in a discrete output. In other words, we are trying to map input variables into discrete categories\n",
    "\n",
    "Cleverly selecting x and y for your particular problem.\n",
    "\n",
    "Types of supervised learning:\n",
    "- Standard NN : real estate, online advertisement\n",
    "- Convolutional NN : photo tagging (image)\n",
    "- Recurrent NN : 1-dimensional sequence data such as speech recognition(audio), machine translation (language)\n",
    "- Custom/Hybrid NN : autonomous driving (image, radar)\n",
    "\n",
    "Structured vs Unstructured (audio,image,text) Data:\n",
    "- Structured Data: size,bedrooms->price  age,ad_id->click num\n",
    "- Unstructured Data: image(pixel values) or text(individual words), audio\n"
   ]
  },
  {
   "cell_type": "markdown",
   "metadata": {
    "collapsed": false,
    "pycharm": {
     "name": "#%% md\n"
    }
   },
   "source": [
    "## Why is Deep Learning taking off?\n",
    "- Traditional learning algorithm(SUM, logistic regression) vs. Large neural network\n",
    "- To get higher performance = large neural network + huge amount of labeled data(m)\n",
    "- 1.Data 2.Computation 3.Algorithm improvement (Sigmoid-> ReLu)\n",
    "- What will the variable m denote in this course? Number of training examples.\n",
    "\n",
    "\n",
    "The process of training a neural network is iterative\n",
    "- Idea->Code->Experiment->..."
   ]
  },
  {
   "cell_type": "markdown",
   "metadata": {
    "collapsed": false,
    "pycharm": {
     "name": "#%% md\n"
    }
   },
   "source": [
    "## Outline of this Course\n",
    "- Week 1: Introduction\n",
    "- Week 2: Basics of Neural Network programming\n",
    "- Week 3: One hidden layer Neural Networks\n",
    "- Week 4: Deep Neural Networks\n"
   ]
  }
 ],
 "metadata": {
  "kernelspec": {
   "display_name": "PyCharm (PYTHON_LOCAL)",
   "language": "python",
   "name": "pycharm-4c76f86f"
  },
  "language_info": {
   "codemirror_mode": {
    "name": "ipython",
    "version": 3
   },
   "file_extension": ".py",
   "mimetype": "text/x-python",
   "name": "python",
   "nbconvert_exporter": "python",
   "pygments_lexer": "ipython3",
   "version": "3.8.5"
  }
 },
 "nbformat": 4,
 "nbformat_minor": 1
}
